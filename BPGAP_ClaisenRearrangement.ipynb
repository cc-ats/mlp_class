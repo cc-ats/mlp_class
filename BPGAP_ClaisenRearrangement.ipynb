{
  "nbformat": 4,
  "nbformat_minor": 0,
  "metadata": {
    "colab": {
      "provenance": []
    },
    "kernelspec": {
      "name": "python3",
      "display_name": "Python 3"
    },
    "language_info": {
      "name": "python"
    }
  },
  "cells": [
    {
      "cell_type": "code",
      "execution_count": 35,
      "metadata": {
        "id": "STOpB3BJoPPp"
      },
      "outputs": [],
      "source": [
        "#@title Import data from GitHub (mlp_class) { display-mode: \"form\" }\n",
        "#@markdown Install GpyTorch.\n",
        "\n",
        "#@markdown Files from GitHub:\n",
        "#@markdown - **qm_coord.npy** (2100, 14, 3)\n",
        "#@markdown - **qm_elem.txt** ([8, 6, 6, 6, 6, 6, 1, 1, 1, 1, 1, 1, 1, 1])\n",
        "#@markdown - PM3\n",
        "#@markdown  - **energy_sqm.npy** (2100,)\n",
        "#@markdown  - **qm_grad_sqm.npy** (2100, 14, 3)\n",
        "\n",
        "#@markdown - B3LYP/6-31+G*\n",
        "#@markdown  - **energy.npy**  (2100,)\n",
        "#@markdown  - **qm_grad.npy** (2100, 14, 3)\n",
        "\n",
        "%%capture\n",
        "!rm *py*\n",
        "!rm qm_elem.txt\n",
        "!rm -r sample_data\n",
        "!wget https://github.com/cc-ats/mlp_class/raw/main/Claisen_Rearrangement/energy.npy\n",
        "!wget https://github.com/cc-ats/mlp_class/raw/main/Claisen_Rearrangement/energy_sqm.npy\n",
        "!wget https://github.com/cc-ats/mlp_class/raw/main/Claisen_Rearrangement/qm_grad.npy\n",
        "!wget https://github.com/cc-ats/mlp_class/raw/main/Claisen_Rearrangement/qm_grad_sqm.npy\n",
        "!wget https://github.com/cc-ats/mlp_class/raw/main/Claisen_Rearrangement/qm_coord.npy\n",
        "!wget https://github.com/cc-ats/mlp_class/raw/main/Claisen_Rearrangement/qm_elem.txt\n",
        "\n",
        "!pip install pytorch-lightning > /dev/null\n",
        "!pip install gpytorch > /dev/null"
      ]
    },
    {
      "cell_type": "code",
      "source": [
        "#@title Import libraries \n",
        "\n",
        "#@markdown - math, typing (Sequence, Tuple)\n",
        "\n",
        "#@markdown - Torch (nn, nn.functional, Tensor. TensorDataset, DataLoader, random_split)\n",
        "\n",
        "#@markdown - gpytorch\n",
        "\n",
        "import math\n",
        "from typing import Sequence, Tuple, Optional\n",
        "\n",
        "import torch\n",
        "import torch.nn as nn\n",
        "import torch.nn.functional as F\n",
        "from torch import Tensor\n",
        "import gpytorch\n",
        "\n",
        "from torch.utils.data import TensorDataset, DataLoader, random_split"
      ],
      "metadata": {
        "id": "qe5Z8mkdoYC4"
      },
      "execution_count": 36,
      "outputs": []
    },
    {
      "cell_type": "code",
      "source": [
        "import numpy as np\n",
        "\n",
        "qm_coord = torch.from_numpy(np.array(np.load(\"qm_coord.npy\"), dtype=\"float32\")) #.cuda()\n",
        "atom_types = np.loadtxt(\"qm_elem.txt\", dtype=int)\n",
        "elems = np.unique(atom_types).tolist()\n",
        "atom_types = torch.from_numpy(np.array([elems.index(i) for i in atom_types])) #.cuda()\n",
        "atom_types = atom_types.repeat(len(qm_coord), 1)\n",
        "\n",
        "energy = torch.from_numpy(np.array((np.load(\"energy.npy\") - np.load(\"energy_sqm.npy\")) * 27.2114 * 23.061, dtype=\"float32\")) #.cuda()\n",
        "energy = energy - energy.mean()\n",
        "qm_gradient = torch.from_numpy(np.array((np.load(\"qm_grad.npy\") - np.load(\"qm_grad_sqm.npy\")) * 27.2114 * 23.061 / 0.529177249, dtype=\"float32\")) #.cuda()"
      ],
      "metadata": {
        "id": "g3bUic8_ojz0"
      },
      "execution_count": 37,
      "outputs": []
    },
    {
      "cell_type": "code",
      "source": [
        "atom_types = np.loadtxt(\"qm_elem.txt\", dtype=int)\n",
        "elems = np.unique(atom_types).tolist()\n",
        "atom_types = torch.from_numpy(np.array([elems.index(i) for i in atom_types])) #.cuda()\n",
        "atom_types = atom_types.repeat(len(qm_coord), 1)"
      ],
      "metadata": {
        "id": "EDwyLwXCokwh"
      },
      "execution_count": 38,
      "outputs": []
    },
    {
      "cell_type": "code",
      "source": [
        "def pairwise_vector(coords: Tensor) -> Tensor:\n",
        "    num_batches, num_channels, _ = coords.size()\n",
        "    rij = coords[:, :, None] - coords[:, None]\n",
        "    mask = ~torch.eye(num_channels, dtype=torch.bool, device=coords.device) # remove self-interaction\n",
        "    rij = torch.masked_select(rij, mask.unsqueeze(2)).view(num_batches, num_channels, num_channels - 1, 3)\n",
        "    return rij\n",
        "\n",
        "def symmetry_function_g2(rij: Tensor, Rcr: float, EtaR: Tensor, ShfR: Tensor) -> Tensor:\n",
        "    dij = torch.norm(rij, dim=3)\n",
        "    fij = (torch.cos(dij / Rcr * math.pi) + 1) * 0.5\n",
        "    g2 = torch.sum(torch.exp(-EtaR.unsqueeze(dim=2) * (dij.unsqueeze(dim=-1) - ShfR.unsqueeze(dim=2))**2) * fij.unsqueeze(dim=-1), dim=2)\n",
        "    #g2 = torch.sum(torch.exp(-EtaR.unsqueeze(dim=1) * (dij.unsqueeze(dim=-1) - ShfR.unsqueeze(dim=1))**2) * fij.unsqueeze(dim=-1), dim=2)\n",
        "    return g2\n",
        "\n",
        "def symmetry_function_g3(rij: Tensor, Rca: float, Zeta: Tensor, EtaA: Tensor) -> Tensor:\n",
        "    c = torch.combinations(torch.arange(rij.size(2)), r=2)\n",
        "    print(c)\n",
        "    rij = rij[:, :, c]\n",
        "    r12 = rij[:, :, :, 0]\n",
        "    r13 = rij[:, :, :, 1]\n",
        "    r23 = r12 - r13\n",
        "    d12 = torch.norm(r12, dim=3)\n",
        "    d13 = torch.norm(r13, dim=3)\n",
        "    d23 = torch.norm(r23, dim=3)\n",
        "    f12 = (torch.cos(d12 / Rca * math.pi) + 1) * 0.5\n",
        "    f13 = (torch.cos(d13 / Rca * math.pi) + 1) * 0.5\n",
        "    f23 = (torch.cos(d23 / Rca * math.pi) + 1) * 0.5\n",
        "    cosine = torch.einsum('ijkl,ijkl->ijk', r12, r13) / (d12 * d13)\n",
        "\n",
        "    g3 = torch.sum(2**(1 - Zeta.unsqueeze(dim=2)) * (1 + cosine.unsqueeze(dim=-1))**Zeta.unsqueeze(dim=2) * torch.exp(-EtaA.unsqueeze(dim=2) * (d12**2 + d13**2 + d23**2).unsqueeze(dim=-1)) * (f12 * f13 * f23).unsqueeze(dim=-1), dim=2)\n",
        "    return g3\n",
        "\n",
        "def symmetry_function_g3ani(rij: Tensor, Rca: float, Zeta: Tensor, ShfZ: Tensor, EtaA: Tensor, ShfA: Tensor) -> Tensor:\n",
        "    c = torch.combinations(torch.arange(rij.size(2)), r=2)\n",
        "    rij = rij[:, :, c]\n",
        "    r12 = rij[:, :, :, 0]\n",
        "    r13 = rij[:, :, :, 1]\n",
        "\n",
        "    r23 = r12 - r13\n",
        "    d12 = torch.norm(r12, dim=3)\n",
        "    d13 = torch.norm(r13, dim=3)\n",
        "    f12 = (torch.cos(d12 / Rca * math.pi) + 1) * 0.5\n",
        "    f13 = (torch.cos(d13 / Rca * math.pi) + 1) * 0.5\n",
        "    cosine = torch.einsum('ijkl,ijkl->ijk', r12, r13) / (d12 * d13)\n",
        "    cosine = torch.cos(torch.acos(cosine).unsqueeze(dim=-1) - ShfA.unsqueeze(dim=2))\n",
        "    #cosine = torch.cos(torch.acos(cosine).unsqueeze(dim=-1) - ShfA.unsqueeze(dim=1))\n",
        "    g3 = torch.sum(2**(1 - Zeta.unsqueeze(dim=2)) * (1 + cosine)**Zeta.unsqueeze(dim=2) * torch.exp(-EtaA.unsqueeze(dim=2) * (0.5 * (d12 + d13).unsqueeze(dim=-1) - ShfZ.unsqueeze(dim=2))**2) * (f12 * f13).unsqueeze(dim=-1), dim=2)\n",
        "    #g3 = torch.sum(2**(1 - Zeta.unsqueeze(dim=1)) * (1 + cosine)**Zeta.unsqueeze(dim=1) * torch.exp(-EtaA.unsqueeze(dim=1) * (0.5 * (d12 + d13).unsqueeze(dim=-1) - ShfZ.unsqueeze(dim=1))**2) * (f12 * f13).unsqueeze(dim=-1), dim=2)\n",
        "    return g3"
      ],
      "metadata": {
        "id": "WewQkZN4onp6"
      },
      "execution_count": 39,
      "outputs": []
    },
    {
      "cell_type": "code",
      "source": [
        "class Feature(nn.Module):\n",
        "    def __init__(self, Rcr: float, EtaR: Tensor, ShfR: Tensor, Rca: float, Zeta: Tensor, EtaA: Tensor) -> None:\n",
        "        super().__init__()\n",
        "        assert len(EtaR) == len(ShfR)\n",
        "        assert len(Zeta) == len(EtaA)\n",
        "        self.Rcr = Rcr\n",
        "        self.Rca = Rca\n",
        "        self.EtaR = torch.Tensor(EtaR)\n",
        "        self.ShfR = torch.Tensor(ShfR)\n",
        "        self.Zeta = torch.Tensor(Zeta)\n",
        "        self.EtaA = torch.Tensor(EtaA)\n",
        "\n",
        "    def forward(self, coords: Tensor, atom_types: Tensor) -> Tensor:\n",
        "        num_batches, num_channels, _ = coords.size()\n",
        "        rij = pairwise_vector(coords)\n",
        "        EtaR = self.EtaR[atom_types].to(device=coords.device)\n",
        "        ShfR = self.ShfR[atom_types].to(device=coords.device)\n",
        "        Zeta = self.Zeta[atom_types].to(device=coords.device)\n",
        "        EtaA = self.EtaA[atom_types].to(device=coords.device)\n",
        "        g2 = symmetry_function_g2(rij, self.Rcr, EtaR, ShfR)\n",
        "        g3 = symmetry_function_g3(rij, self.Rca, Zeta, EtaA)\n",
        "\n",
        "        return torch.concat((g2, g3), dim=2)\n",
        "\n",
        "    @property\n",
        "    def output_length(self) -> int:\n",
        "        return len(self.EtaR[0]) + len(self.EtaA[0])\n"
      ],
      "metadata": {
        "id": "vGbznStaoxUa"
      },
      "execution_count": 40,
      "outputs": []
    },
    {
      "cell_type": "code",
      "source": [
        "class FeatureANI(nn.Module):\n",
        "    def __init__(self, Rcr: float, EtaR: Tensor, ShfR: Tensor, Rca: float, Zeta: Tensor, ShfZ: Tensor, EtaA: Tensor, ShfA: Tensor) -> None:\n",
        "        super().__init__()\n",
        "        assert len(EtaR) == len(ShfR)\n",
        "        assert len(Zeta) == len(ShfZ) == len(EtaA) == len(ShfA)\n",
        "        self.Rcr = Rcr\n",
        "        self.Rca = Rca\n",
        "        self.EtaR = torch.Tensor(EtaR)\n",
        "        self.ShfR = torch.Tensor(ShfR)\n",
        "        self.Zeta = torch.Tensor(Zeta)\n",
        "        self.ShfZ = torch.Tensor(ShfZ)\n",
        "        self.EtaA = torch.Tensor(EtaA)\n",
        "        self.ShfA = torch.Tensor(ShfA)\n",
        "\n",
        "    def forward(self, coords: Tensor, atom_types: Tensor) -> Tensor:\n",
        "        num_batches, num_channels, _ = coords.size()\n",
        "        rij = pairwise_vector(coords)\n",
        "        EtaR = self.EtaR[atom_types].to(device=coords.device)\n",
        "        ShfR = self.ShfR[atom_types].to(device=coords.device)\n",
        "        Zeta = self.Zeta[atom_types].to(device=coords.device)\n",
        "        ShfZ = self.ShfZ[atom_types].to(device=coords.device)\n",
        "        EtaA = self.EtaA[atom_types].to(device=coords.device)\n",
        "        ShfA = self.ShfA[atom_types].to(device=coords.device)\n",
        "        g2 = symmetry_function_g2(rij, self.Rcr, EtaR, ShfR)\n",
        "        g3 = symmetry_function_g3ani(rij, self.Rca, Zeta, ShfZ, EtaA, ShfA)\n",
        "\n",
        "        return torch.concat((g2, g3), dim=2)\n",
        "\n",
        "    @property\n",
        "    def output_length(self) -> int:\n",
        "        return len(self.EtaR[0]) + len(self.EtaA[0])"
      ],
      "metadata": {
        "id": "xhpIkbU8o2Yi"
      },
      "execution_count": 41,
      "outputs": []
    },
    {
      "cell_type": "markdown",
      "source": [
        "The Gaussian Approximation Potential (GAP) formalism is motivated by considering an observable, such as molecular energy (E), as a linear combination of unobservables, such as atomic energies (ε): \n",
        "\\begin{equation}\n",
        "E = \\sum_{i}^{\\textrm{Atoms}}ε(\\textbf{r}_{ij})\n",
        "\\end{equation}\n",
        "where $\\textbf{r}_{ij}$ is the relative position between atoms i and j.\n",
        "\n",
        "To use Gaussian processes to determine the underlying function of atomic energies when only the linear combination of functions are avalible, as observations, an NxM matrix $\\textbf{L}$ describes the relationship between N unobserved atomic energies and M observed energies:\n",
        "\\begin{equation}\n",
        "\\textbf{y}=\\textbf{L}\\textbf{y}'\n",
        "\\end{equation}\n",
        "The covariance of the observations can then be given by:\n",
        "\\begin{equation}\n",
        "\\textbf{K}_{MM}=\\textbf{L}^{\\textrm{T}}\\textbf{K}_{NN}\\textbf{L}\n",
        "\\end{equation}\n"
      ],
      "metadata": {
        "id": "hXJ4cge-5PuO"
      }
    },
    {
      "cell_type": "code",
      "source": [
        "class SOAP_kern(gpytorch.kernels.PolynomialKernel):\n",
        "    def __init__(self, natms):\n",
        "        super().__init__(power=2.0)\n",
        "        self.noise = torch.nn.parameter.Parameter(torch.ones((1)))\n",
        "        self.natms = natms\n",
        "    def K(self,\n",
        "        x1: torch.Tensor,\n",
        "        x2: torch.Tensor=None,\n",
        "        diag: Optional[bool]=False,\n",
        "        last_dim_is_batch: Optional[bool]=False,\n",
        "        **params,\n",
        "        ) -> torch.Tensor:\n",
        "        if x2 is None:\n",
        "            x2 = torch.clone(x1)\n",
        "        kern = super().forward(x1,x2,diag=False,last_dim_is_batch=False)+self.noise*torch.eye(int(x1.size()[0]),dtype=torch.float)\n",
        "        L = torch.zeros(int(x1.size()[0]), int(x1.size()[0]/self.natms), dtype=torch.float)\n",
        "        j, k = 0, 0\n",
        "        for i in range(int(x1.size()[0])):\n",
        "            L[i,k] = 1.\n",
        "            j += 1\n",
        "            if j == self.natms:\n",
        "                j = 0\n",
        "                k += 1\n",
        "        LT = L.T\n",
        "        return torch.matmul(torch.matmul(LT,kern), L)\n",
        "    def Ks(self,\n",
        "        x1: torch.Tensor,\n",
        "        x2: torch.Tensor,\n",
        "        diag: Optional[bool]=False,\n",
        "        last_dim_is_batch: Optional[bool]=False,\n",
        "        **params,\n",
        "        ) -> torch.Tensor:\n",
        "        kern = super().forward(x1,x2,diag=False,last_dim_is_batch=False)\n",
        "        L = torch.zeros(int(x2.size()[0]), int(x2.size()[0]/self.natms), dtype=torch.float)\n",
        "        j, k = 0, 0\n",
        "        for i in range(int(x2.size()[0])):\n",
        "            L[i,k] = 1.\n",
        "            j += 1\n",
        "            if j == self.natms:\n",
        "                j = 0\n",
        "                k += 1\n",
        "        LT = L.T\n",
        "        return torch.matmul(kern, L)\n",
        "    def forward(self, x1, x2=None):\n",
        "        if x2 == None:\n",
        "          x2 = torch.clone(x1)\n",
        "        x1_eq_x2 = torch.equal(x1, x2)\n",
        "        if x1_eq_x2:\n",
        "            res = self.K(x1)\n",
        "        else:\n",
        "            res = self.Ks(x1, x2)\n",
        "        return res"
      ],
      "metadata": {
        "id": "M6qYTJyEo3mR"
      },
      "execution_count": 42,
      "outputs": []
    },
    {
      "cell_type": "code",
      "source": [
        "class BP_GAP_GPR(gpytorch.models.ExactGP):\n",
        "    def __init__(self,train_x, train_y, likelihood, natm):\n",
        "        super(BP_GAP_GPR, self).__init__(train_x, train_y, likelihood)\n",
        "        self.natm = natm\n",
        "        self.mean_module = gpytorch.means.ZeroMean() #ConstantMean()\n",
        "        self.covar_module = SOAP_kern(natm)\n",
        "    def forward(self,x):\n",
        "        mean_x_ = self.mean_module(x)\n",
        "        covar_x = self.covar_module.K(x)\n",
        "        mean_x = torch.zeros(covar_x.size()[0])\n",
        "        j,k = 0,self.natm\n",
        "        for i in range(int(covar_x.size()[0])):\n",
        "            mean_x[i] = torch.sum(mean_x_[j:k])\n",
        "            j += self.natm\n",
        "            k += self.natm\n",
        "        return gpytorch.distributions.MultivariateNormal(mean_x, covar_x)\n"
      ],
      "metadata": {
        "id": "WprC2EpppRvP"
      },
      "execution_count": 43,
      "outputs": []
    },
    {
      "cell_type": "code",
      "source": [
        "ani = True\n",
        "\n",
        "if ani:\n",
        "  # From TorchANI\n",
        "  Rcr = 5.2000e+00\n",
        "  Rca = 3.5000e+00\n",
        "  EtaR = [1.6000000e+01]\n",
        "  ShfR = [9.0000000e-01,1.1687500e+00,1.4375000e+00,1.7062500e+00,1.9750000e+00,2.2437500e+00,2.5125000e+00,2.7812500e+00,3.0500000e+00,3.3187500e+00,3.5875000e+00,3.8562500e+00,4.1250000e+00,4.3937500e+00,4.6625000e+00,4.9312500e+00]\n",
        "  Zeta = [3.2000000e+01]\n",
        "  ShfZ = [1.9634954e-01,5.8904862e-01,9.8174770e-01,1.3744468e+00,1.7671459e+00,2.1598449e+00,2.5525440e+00,2.9452431e+00]\n",
        "  EtaA = [8.0000000e+00]\n",
        "  ShfA = [9.0000000e-01,1.5500000e+00,2.2000000e+00,2.8500000e+00]\n",
        "  EtaR, ShfR = np.array(np.meshgrid(EtaR, ShfR)).reshape(2, -1)\n",
        "  Zeta, ShfZ, EtaA, ShfA = np.array(np.meshgrid(Zeta, ShfZ, EtaA, ShfA)).reshape(4, -1)\n",
        "  EtaR = np.repeat([EtaR], 3, axis=0)\n",
        "  ShfR = np.repeat([ShfR], 3, axis=0)\n",
        "  Zeta = np.repeat([Zeta], 3, axis=0)\n",
        "  ShfZ = np.repeat([ShfZ], 3, axis=0)\n",
        "  EtaA = np.repeat([EtaA], 3, axis=0)\n",
        "  ShfA = np.repeat([ShfA], 3, axis=0)\n",
        "  descriptor = FeatureANI(Rcr, EtaR, ShfR, Rca, Zeta, ShfZ, EtaA, ShfA)\n",
        "else:\n",
        "  Rcr = 6.0\n",
        "  Rca = 6.0\n",
        "  ShfR = [[0.0, 0.0, 0.0, 0.0, 0.0, 0.0], [0.0, 0.0, 0.0, 0.0, 0.0, 0.0], [0.0, 0.0, 0.0, 0.0, 0.0, 0.0]] # H, C, O\n",
        "  EtaR = [[0.0, 0.04, 0.14, 0.32, 0.71, 1.79], [0.0, 0.04, 0.14, 0.32, 0.71, 1.79], [0.0, 0.04, 0.14, 0.32, 0.71, 1.79]] # H, C, O\n",
        "  Zeta = [[1, 2, 4, 8, 16, 32], [1, 2, 4, 8, 16, 32], [1, 2, 4, 8, 16, 32]] # H, C, O\n",
        "  EtaA = [[0.0, 0.04, 0.14, 0.32, 0.71, 1.79], [0.0, 0.04, 0.14, 0.32, 0.71, 1.79], [0.0, 0.04, 0.14, 0.32, 0.71, 1.79]] # H, C, O\n",
        "  descriptor = Feature(Rcr, EtaR, ShfR, Rca, Zeta, EtaA)\n"
      ],
      "metadata": {
        "id": "qgZUGmHwpVAq"
      },
      "execution_count": 44,
      "outputs": []
    },
    {
      "cell_type": "code",
      "source": [
        "nskip = 5\n",
        "\n",
        "# Prepare training data \n",
        "X = descriptor.forward(qm_coord, atom_types)[::nskip,:,:]\n",
        "shape = X.shape\n",
        "X  = X.reshape(shape[0]*shape[1],shape[2])\n",
        "X = torch.nn.functional.normalize(X) # Preprocess Inputs\n",
        "Y = energy[::nskip]\n",
        "\n",
        "# Initialize likelihood and model\n",
        "likelihood = gpytorch.likelihoods.GaussianLikelihood()\n",
        "model = BP_GAP_GPR(X, Y, likelihood, 14)\n"
      ],
      "metadata": {
        "id": "py4KHB-IpZ9O"
      },
      "execution_count": 45,
      "outputs": []
    },
    {
      "cell_type": "code",
      "source": [
        "training_iter = 50 \n",
        "\n",
        "# Find optimal model hyperparameters\n",
        "model.train()\n",
        "likelihood.train()\n",
        "\n",
        "# Use the adam optimizer\n",
        "optimizer = torch.optim.Adam(model.parameters(), lr=0.1)  # Includes GaussianLikelihood parameters\n",
        "\n",
        "# \"Loss\" for GPs - the marginal log likelihood\n",
        "mll = gpytorch.mlls.ExactMarginalLogLikelihood(likelihood, model)\n",
        "\n",
        "for i in range(training_iter):\n",
        "    # Zero gradients from previous iteration\n",
        "    optimizer.zero_grad()\n",
        "    # Output from model\n",
        "    output = model(X)\n",
        "    # Calc loss and backprop gradients\n",
        "    loss = -mll(output, Y)\n",
        "    loss.backward()\n",
        "    print('Iter %d/%d - Loss: %.3f' % (\n",
        "        i + 1, training_iter, loss.item(),\n",
        "    ))\n",
        "    optimizer.step()\n",
        "\n",
        "# Print Trained hyperparameters\n",
        "for param_name, param in model.named_parameters():\n",
        "    print(f'Parameter name: {param_name:42} value = {param.item()}')\n",
        "\n"
      ],
      "metadata": {
        "colab": {
          "base_uri": "https://localhost:8080/"
        },
        "id": "6OS0oZUkpgq8",
        "outputId": "c2664795-4ab6-4c8f-e6e1-925de0b0bb97"
      },
      "execution_count": 46,
      "outputs": [
        {
          "output_type": "stream",
          "name": "stdout",
          "text": [
            "Iter 1/50 - Loss: 2.559\n",
            "Iter 2/50 - Loss: 2.531\n",
            "Iter 3/50 - Loss: 2.502\n",
            "Iter 4/50 - Loss: 2.473\n",
            "Iter 5/50 - Loss: 2.445\n",
            "Iter 6/50 - Loss: 2.419\n",
            "Iter 7/50 - Loss: 2.400\n",
            "Iter 8/50 - Loss: 2.398\n",
            "Iter 9/50 - Loss: 2.421\n",
            "Iter 10/50 - Loss: 2.430\n",
            "Iter 11/50 - Loss: 2.415\n",
            "Iter 12/50 - Loss: 2.399\n",
            "Iter 13/50 - Loss: 2.392\n",
            "Iter 14/50 - Loss: 2.391\n",
            "Iter 15/50 - Loss: 2.394\n",
            "Iter 16/50 - Loss: 2.397\n",
            "Iter 17/50 - Loss: 2.400\n",
            "Iter 18/50 - Loss: 2.401\n",
            "Iter 19/50 - Loss: 2.401\n",
            "Iter 20/50 - Loss: 2.399\n",
            "Iter 21/50 - Loss: 2.396\n",
            "Iter 22/50 - Loss: 2.393\n",
            "Iter 23/50 - Loss: 2.390\n",
            "Iter 24/50 - Loss: 2.387\n",
            "Iter 25/50 - Loss: 2.385\n",
            "Iter 26/50 - Loss: 2.385\n",
            "Iter 27/50 - Loss: 2.387\n",
            "Iter 28/50 - Loss: 2.389\n",
            "Iter 29/50 - Loss: 2.389\n",
            "Iter 30/50 - Loss: 2.388\n",
            "Iter 31/50 - Loss: 2.386\n",
            "Iter 32/50 - Loss: 2.384\n",
            "Iter 33/50 - Loss: 2.383\n",
            "Iter 34/50 - Loss: 2.383\n",
            "Iter 35/50 - Loss: 2.384\n",
            "Iter 36/50 - Loss: 2.385\n",
            "Iter 37/50 - Loss: 2.385\n",
            "Iter 38/50 - Loss: 2.385\n",
            "Iter 39/50 - Loss: 2.384\n",
            "Iter 40/50 - Loss: 2.384\n",
            "Iter 41/50 - Loss: 2.383\n",
            "Iter 42/50 - Loss: 2.382\n",
            "Iter 43/50 - Loss: 2.382\n",
            "Iter 44/50 - Loss: 2.383\n",
            "Iter 45/50 - Loss: 2.383\n",
            "Iter 46/50 - Loss: 2.383\n",
            "Iter 47/50 - Loss: 2.383\n",
            "Iter 48/50 - Loss: 2.382\n",
            "Iter 49/50 - Loss: 2.382\n",
            "Iter 50/50 - Loss: 2.382\n",
            "Parameter name: likelihood.noise_covar.raw_noise           value = -0.8300074338912964\n",
            "Parameter name: covar_module.raw_offset                    value = 3.820683002471924\n",
            "Parameter name: covar_module.noise                         value = 0.3428843915462494\n"
          ]
        }
      ]
    },
    {
      "cell_type": "code",
      "source": [
        "model.eval()\n",
        "likelihood.eval()\n",
        "\n",
        "# Break predictions into sections to limit memory usage \n",
        "nsections = 5\n",
        "for i in range(nsections):\n",
        "  nstart = int(len(qm_coord)/nsections * (i))\n",
        "  nend = int(len(qm_coord)/nsections * (i+1)) \n",
        "  qm_coord_test = torch.autograd.Variable(qm_coord[nstart:nend,:,:], requires_grad=True)\n",
        "  X_test = descriptor.forward(qm_coord_test, atom_types[nstart:nend,:])\n",
        "  shape = X_test.shape\n",
        "  X_test = X_test.reshape(shape[0]*shape[1],shape[2])\n",
        "  X_test = torch.nn.functional.normalize(X_test)\n",
        "  y_preds = model(X_test) #likelihood(model(X_test))\n",
        "  mean_y_test = y_preds.mean\n",
        "  auto_grad_test, = torch.autograd.grad(mean_y_test.sum(), [qm_coord_test])\n",
        "  if i == 0:\n",
        "    pred_test = mean_y_test.detach()\n",
        "    grad_test = auto_grad_test.detach()\n",
        "  else:\n",
        "    pred_test = torch.concat((pred_test, mean_y_test.detach()))\n",
        "    grad_test = torch.concat((grad_test, auto_grad_test.detach()))\n",
        "\n",
        "def eval(ref, pred):\n",
        "    rmse = torch.sqrt(torch.mean((ref-pred)**2))\n",
        "    q2 = 1 - torch.sum((ref-pred)**2)/torch.sum((ref-torch.mean(ref))**2)\n",
        "    return rmse, q2\n",
        "\n",
        "y_rmse, y_q2 = eval(energy ,pred_test)\n",
        "print(\"Energy RMSE: \",y_rmse, \"Q^2: \", y_q2)\n",
        "f_rmse, f_q2 = eval(grad_test, qm_gradient)\n",
        "print(\"Force RMSE: \",f_rmse, \"Q^2: \", f_q2)\n",
        "\n",
        "\n"
      ],
      "metadata": {
        "colab": {
          "base_uri": "https://localhost:8080/"
        },
        "id": "07XSLYsupkIJ",
        "outputId": "d3661927-c3b4-4db4-828b-d33e9181d253"
      },
      "execution_count": 47,
      "outputs": [
        {
          "output_type": "stream",
          "name": "stdout",
          "text": [
            "Energy RMSE:  tensor(2.2788) Q^2:  tensor(0.6278)\n",
            "Force RMSE:  tensor(7.6583) Q^2:  tensor(-1.0244)\n"
          ]
        }
      ]
    },
    {
      "cell_type": "code",
      "source": [
        "print(energy.shape, pred_test.shape)"
      ],
      "metadata": {
        "colab": {
          "base_uri": "https://localhost:8080/"
        },
        "id": "S28V1SeQDGBb",
        "outputId": "50da4435-90b8-44de-de12-b8a0077e0c9f"
      },
      "execution_count": 48,
      "outputs": [
        {
          "output_type": "stream",
          "name": "stdout",
          "text": [
            "torch.Size([2100]) torch.Size([2100])\n"
          ]
        }
      ]
    },
    {
      "cell_type": "code",
      "source": [
        "import matplotlib.pyplot as plt\n",
        "\n",
        "fig, ax = plt.subplots(1,2,figsize=(10,5))\n",
        "\n",
        "e1 = energy.cpu().detach().numpy() + np.load(\"energy_sqm.npy\") * 27.2114 * 23.061\n",
        "e2 = pred_test.cpu().detach().numpy() + np.load(\"energy_sqm.npy\") * 27.2114 * 23.061\n",
        "ax[0].plot(e1, e2, linestyle='none', marker='.', )\n",
        "ax[0].plot([np.max(np.concatenate((e1,e2))), -np.max(np.concatenate((e1,e2)))], [np.max(np.concatenate((e1,e2))), -np.max(np.concatenate((e1,e2)))], color=\"k\", linewidth=1.5)\n",
        "ax[0].set_xlabel(\"Reference Energy (kcal/mol)\", size=14)\n",
        "ax[0].set_ylabel(\"Predicted Energy (kcal/mol)\", size=14)\n",
        "ax[0].annotate('RMSD: %.3f' % np.sqrt(np.mean((e1 - e2)**2)), xy=(0.05, 0.95), xycoords='axes fraction', size=14)\n",
        "\n",
        "f1 = -qm_gradient.cpu().detach().numpy().reshape(-1) - np.load(\"qm_grad_sqm.npy\").reshape(-1) * 27.2114 * 23.061 / 0.529177249\n",
        "f2 = -grad_test.cpu().detach().numpy().reshape(-1) - np.load(\"qm_grad_sqm.npy\").reshape(-1) * 27.2114 * 23.061 / 0.529177249\n",
        "\n",
        "ax[1].plot(f1, f2, linestyle='none', marker='.', )\n",
        "plt.plot([-np.abs(np.max(np.concatenate((f1,f2)))), np.max(np.concatenate((f1,f2)))], [-np.max(np.concatenate((f1,f2))), np.max(np.concatenate((f1,f2)))], color=\"k\", linewidth=1.5)\n",
        "ax[1].set_xlabel(\"Reference Force (kcal/mol/A)\", size=14)\n",
        "ax[1].set_ylabel(\"Predicted Force (kcal/mol/A)\", size=14)\n",
        "ax[1].annotate('RMSD: %.3f' % np.sqrt(np.mean((f1 - f2)**2)), xy=(0.05, 0.95), xycoords='axes fraction', size=14)\n",
        "\n",
        "plt.tight_layout()\n",
        "plt.savefig('rmsd.png', dpi=300)"
      ],
      "metadata": {
        "colab": {
          "base_uri": "https://localhost:8080/",
          "height": 369
        },
        "id": "Ebm0q3mBBlDm",
        "outputId": "fe3da39b-9ea2-4492-bd79-63782d1b8ace"
      },
      "execution_count": 49,
      "outputs": [
        {
          "output_type": "display_data",
          "data": {
            "text/plain": [
              "<Figure size 720x360 with 2 Axes>"
            ],
            "image/png": "[encoded data removed]"
          },
          "metadata": {
            "needs_background": "light"
          }
        }
      ]
    },
    {
      "cell_type": "code",
      "source": [
        "# Evaluate Training Set \n",
        "y_preds = model(X) #likelihood(model(X_test))\n",
        "mean_y = y_preds.mean\n",
        "y_rmse, y_q2 = eval(Y ,mean_y)\n",
        "\n",
        "print(y_rmse, y_q2)"
      ],
      "metadata": {
        "colab": {
          "base_uri": "https://localhost:8080/"
        },
        "id": "HrmpCRWn-Y0X",
        "outputId": "de9465dc-6798-4cf7-89e5-27d968ebe4a1"
      },
      "execution_count": 50,
      "outputs": [
        {
          "output_type": "stream",
          "name": "stderr",
          "text": [
            "/usr/local/lib/python3.7/dist-packages/gpytorch/models/exact_gp.py:275: GPInputWarning: The input matches the stored training data. Did you forget to call model.train()?\n",
            "  GPInputWarning,\n"
          ]
        },
        {
          "output_type": "stream",
          "name": "stdout",
          "text": [
            "tensor(2.1751, grad_fn=<SqrtBackward0>) tensor(0.6254, grad_fn=<RsubBackward1>)\n"
          ]
        }
      ]
    },
    {
      "cell_type": "code",
      "source": [
        "# Check manual calculation\n",
        "print(mean_y)\n",
        "test = torch.matmul(torch.matmul(model.covar_module.Ks(X, X), torch.linalg.inv(model.covar_module.K(X) + model.likelihood.noise*torch.eye(420))), Y.reshape((Y.shape[0],1)))\n",
        "test_y = torch.zeros(int(2100/nksip))\n",
        "j,k = 0,14\n",
        "for i in range(int(2100/nskip)):\n",
        "    test_y[i] = torch.sum(test.flatten()[j:k])\n",
        "    j += 14\n",
        "    k += 14\n",
        "print(test_y)\n",
        "y_rmse, y_q2 = eval(Y ,test_y.flatten())\n",
        "print(y_rmse, y_q2)"
      ],
      "metadata": {
        "colab": {
          "base_uri": "https://localhost:8080/",
          "height": 1000
        },
        "id": "ly85oFNGq-1q",
        "outputId": "02eab6ec-385a-444a-b646-6fe5bc40bf99"
      },
      "execution_count": 51,
      "outputs": [
        {
          "output_type": "stream",
          "name": "stdout",
          "text": [
            "tensor([-1.0088, -0.3525,  2.4512, -0.2988,  0.8789,  1.0293,  0.8486, -0.1289,\n",
            "         1.8066, -1.1396, -0.8477,  0.4609, -2.6621, -1.7822, -1.4375, -1.0449,\n",
            "        -2.1738, -0.8906, -2.1475,  1.1299, -1.5518,  0.7676,  1.6260,  0.9355,\n",
            "        -0.2910,  1.1924, -2.5234, -0.9785, -2.2725,  3.7461,  0.0605, -2.5674,\n",
            "        -1.8682, -1.4727, -0.3369,  2.5508,  0.6270, -1.2188, -0.6670, -2.7598,\n",
            "        -1.8555, -1.5068,  1.7529,  0.5898,  1.1699, -1.2422,  0.9922, -1.8311,\n",
            "        -2.8984, -2.0586, -1.0156, -2.5947, -1.0176,  1.5889,  0.6523,  1.5625,\n",
            "        -0.0566,  0.5225, -1.1895, -1.4531, -0.4570,  0.0273, -2.2266,  1.9453,\n",
            "        -1.6006, -0.6016, -1.1357, -0.5029, -1.4785,  0.1514, -0.3018,  0.0312,\n",
            "         0.2148, -0.2314, -1.6084, -0.2461,  1.7998, -1.8926,  0.7568,  0.0293,\n",
            "         0.2246,  3.0596,  0.9229,  2.5273, -0.3311, -0.2002,  1.4561, -1.6250,\n",
            "         2.0068, -0.6602,  0.9609,  0.0596,  1.4805,  0.0967, -1.4727,  1.4570,\n",
            "         0.3730, -0.0322,  0.6631,  1.0254, -0.2803,  2.0283,  2.2021,  1.6104,\n",
            "         2.1631,  0.8623,  0.4883,  2.2305,  1.7656, -3.1211,  0.1426,  1.8125,\n",
            "        -0.1650,  0.4512, -0.5811, -1.2695,  0.5820,  0.6533,  0.6973,  1.4092,\n",
            "         3.4111,  1.2754,  2.0078,  0.9004,  2.0498,  2.8672,  0.0713,  2.1689,\n",
            "        -0.2900,  2.0234,  3.5430,  1.7705,  3.3086,  5.8379,  2.1758,  1.5586,\n",
            "         3.2227,  0.5029, -0.9834,  3.3281,  2.0625,  3.5117,  3.5605,  2.8428,\n",
            "         1.3174,  0.3867,  0.1475,  0.1475,  1.6895,  3.1064,  2.5898,  3.4102,\n",
            "         1.9746,  0.9199,  2.4072,  1.6621,  2.9980,  2.2500,  2.5615,  3.5596,\n",
            "         2.4902,  4.9785,  0.7295,  5.6377,  6.6650,  2.2832,  2.1182,  0.7207,\n",
            "         2.6514,  1.6885,  1.7080,  2.8379, -0.9746,  3.6943,  3.6787,  3.1680,\n",
            "        -0.2695,  0.8418,  3.0186,  3.3164,  2.8242,  4.6484,  1.6113,  2.2354,\n",
            "         1.5693,  4.3750,  2.9590,  3.0508,  1.2041,  4.7168,  5.9082,  2.8037,\n",
            "         1.9414,  2.0332,  2.9043, -0.2197,  2.0088,  0.2900,  1.6963,  2.8301,\n",
            "         1.0312,  0.8799,  5.1084,  1.9805,  5.2188,  1.4453,  2.5166, -1.1943,\n",
            "         0.7432,  1.4316,  1.0176,  3.7803,  1.4062, -0.1982,  3.1211,  0.3877,\n",
            "        -0.3184,  0.3281, -0.7617,  4.5098, -4.7012, -3.3047,  0.5361, -2.1719,\n",
            "         1.4580, -3.2373,  5.3789, -0.6758, -2.6074, -1.0547, -1.0459,  1.5527,\n",
            "        -3.6299, -3.9268, -1.9521, -1.1582, -1.5381,  0.9375, -1.7432, -2.7158,\n",
            "         1.7012,  1.6641,  0.1465,  0.6592, -2.7656, -2.3291, -0.2783,  0.1182,\n",
            "        -0.1738, -1.9854, -1.4268, -0.2461,  1.6914, -0.7715,  1.8379, -1.7188,\n",
            "         2.4082, -0.2295,  1.4990, -0.9482, -0.4990,  2.4766, -0.2480, -1.4434,\n",
            "        -0.4990,  4.0723,  0.9395,  1.9746,  2.8613,  1.6611, -1.9561,  2.1885,\n",
            "        -0.2246, -0.3350,  2.1289,  1.5762, -1.3047,  0.4551, -0.3086,  0.3213,\n",
            "         0.7051,  1.8789,  0.3184,  2.1445,  0.0078,  3.3027, -0.4912, -0.9131,\n",
            "         2.7705,  0.8213, -0.1055, -1.7109, -1.8232, -1.1992,  2.1777,  0.9424,\n",
            "         1.1748,  4.4658,  1.8643,  0.2578, -1.9258, -0.7754, -0.7500, -2.3389,\n",
            "         0.3965, -0.3799, -0.8848,  2.0840, -2.6904,  0.5391, -1.7422,  2.3799,\n",
            "        -1.0391, -2.0527,  1.1719,  0.0264, -0.0713, -1.8604,  1.5938, -1.4941,\n",
            "        -2.5000, -2.7520, -4.4941, -2.2695,  0.4082, -1.8799, -3.4639, -0.6875,\n",
            "        -3.0625,  0.2451,  0.8779,  0.9717, -0.0654,  2.4355,  1.0410, -0.3477,\n",
            "        -0.5361,  0.6377,  2.8125,  0.4355, -1.7588, -0.6592, -1.5244, -1.7383,\n",
            "        -4.6504, -2.3574, -0.7061, -0.1592, -1.2031, -3.2607, -2.4121, -0.1035,\n",
            "        -0.6279, -0.2012, -3.3291, -2.7383, -2.5410, -0.7607, -2.1533,  0.1396,\n",
            "        -2.5938, -3.4512, -0.6738, -0.0527, -3.7197, -2.2627, -0.7363, -3.1934,\n",
            "        -0.2930, -2.8145, -1.0547, -3.4092, -1.4863, -4.1436, -0.2178, -1.2197,\n",
            "        -1.1377, -6.7275, -3.5049, -3.5078, -2.4551, -4.9053, -4.9238, -0.7920,\n",
            "        -2.4980, -4.4707, -4.9551, -4.3750, -5.0967, -4.0615, -6.3721, -6.3887,\n",
            "        -6.5400, -3.8047, -2.8555, -4.8018, -7.1113, -4.5830, -6.9639, -5.7031,\n",
            "        -2.5557, -6.8311, -2.7891, -5.7812, -3.4180, -2.4014, -5.9375, -3.0977,\n",
            "        -3.8525, -4.4697, -5.1514, -5.1504, -3.8164, -6.6895, -2.1865, -5.8682,\n",
            "        -4.2930, -4.7031, -7.5371, -4.2793], grad_fn=<ViewBackward0>)\n"
          ]
        },
        {
          "output_type": "error",
          "ename": "NameError",
          "evalue": "ignored",
          "traceback": [
            "\u001b[0;31m---------------------------------------------------------------------------\u001b[0m",
            "\u001b[0;31mNameError\u001b[0m                                 Traceback (most recent call last)",
            "\u001b[0;32m<ipython-input-51-7de8c647d60f>\u001b[0m in \u001b[0;36m<module>\u001b[0;34m\u001b[0m\n\u001b[1;32m      2\u001b[0m \u001b[0mprint\u001b[0m\u001b[0;34m(\u001b[0m\u001b[0mmean_y\u001b[0m\u001b[0;34m)\u001b[0m\u001b[0;34m\u001b[0m\u001b[0;34m\u001b[0m\u001b[0m\n\u001b[1;32m      3\u001b[0m \u001b[0mtest\u001b[0m \u001b[0;34m=\u001b[0m \u001b[0mtorch\u001b[0m\u001b[0;34m.\u001b[0m\u001b[0mmatmul\u001b[0m\u001b[0;34m(\u001b[0m\u001b[0mtorch\u001b[0m\u001b[0;34m.\u001b[0m\u001b[0mmatmul\u001b[0m\u001b[0;34m(\u001b[0m\u001b[0mmodel\u001b[0m\u001b[0;34m.\u001b[0m\u001b[0mcovar_module\u001b[0m\u001b[0;34m.\u001b[0m\u001b[0mKs\u001b[0m\u001b[0;34m(\u001b[0m\u001b[0mX\u001b[0m\u001b[0;34m,\u001b[0m \u001b[0mX\u001b[0m\u001b[0;34m)\u001b[0m\u001b[0;34m,\u001b[0m \u001b[0mtorch\u001b[0m\u001b[0;34m.\u001b[0m\u001b[0mlinalg\u001b[0m\u001b[0;34m.\u001b[0m\u001b[0minv\u001b[0m\u001b[0;34m(\u001b[0m\u001b[0mmodel\u001b[0m\u001b[0;34m.\u001b[0m\u001b[0mcovar_module\u001b[0m\u001b[0;34m.\u001b[0m\u001b[0mK\u001b[0m\u001b[0;34m(\u001b[0m\u001b[0mX\u001b[0m\u001b[0;34m)\u001b[0m \u001b[0;34m+\u001b[0m \u001b[0mmodel\u001b[0m\u001b[0;34m.\u001b[0m\u001b[0mlikelihood\u001b[0m\u001b[0;34m.\u001b[0m\u001b[0mnoise\u001b[0m\u001b[0;34m*\u001b[0m\u001b[0mtorch\u001b[0m\u001b[0;34m.\u001b[0m\u001b[0meye\u001b[0m\u001b[0;34m(\u001b[0m\u001b[0;36m420\u001b[0m\u001b[0;34m)\u001b[0m\u001b[0;34m)\u001b[0m\u001b[0;34m)\u001b[0m\u001b[0;34m,\u001b[0m \u001b[0mY\u001b[0m\u001b[0;34m.\u001b[0m\u001b[0mreshape\u001b[0m\u001b[0;34m(\u001b[0m\u001b[0;34m(\u001b[0m\u001b[0mY\u001b[0m\u001b[0;34m.\u001b[0m\u001b[0mshape\u001b[0m\u001b[0;34m[\u001b[0m\u001b[0;36m0\u001b[0m\u001b[0;34m]\u001b[0m\u001b[0;34m,\u001b[0m\u001b[0;36m1\u001b[0m\u001b[0;34m)\u001b[0m\u001b[0;34m)\u001b[0m\u001b[0;34m)\u001b[0m\u001b[0;34m\u001b[0m\u001b[0;34m\u001b[0m\u001b[0m\n\u001b[0;32m----> 4\u001b[0;31m \u001b[0mtest_y\u001b[0m \u001b[0;34m=\u001b[0m \u001b[0mtorch\u001b[0m\u001b[0;34m.\u001b[0m\u001b[0mzeros\u001b[0m\u001b[0;34m(\u001b[0m\u001b[0mint\u001b[0m\u001b[0;34m(\u001b[0m\u001b[0;36m2100\u001b[0m\u001b[0;34m/\u001b[0m\u001b[0mnksip\u001b[0m\u001b[0;34m)\u001b[0m\u001b[0;34m)\u001b[0m\u001b[0;34m\u001b[0m\u001b[0;34m\u001b[0m\u001b[0m\n\u001b[0m\u001b[1;32m      5\u001b[0m \u001b[0mj\u001b[0m\u001b[0;34m,\u001b[0m\u001b[0mk\u001b[0m \u001b[0;34m=\u001b[0m \u001b[0;36m0\u001b[0m\u001b[0;34m,\u001b[0m\u001b[0;36m14\u001b[0m\u001b[0;34m\u001b[0m\u001b[0;34m\u001b[0m\u001b[0m\n\u001b[1;32m      6\u001b[0m \u001b[0;32mfor\u001b[0m \u001b[0mi\u001b[0m \u001b[0;32min\u001b[0m \u001b[0mrange\u001b[0m\u001b[0;34m(\u001b[0m\u001b[0mint\u001b[0m\u001b[0;34m(\u001b[0m\u001b[0;36m2100\u001b[0m\u001b[0;34m/\u001b[0m\u001b[0mnskip\u001b[0m\u001b[0;34m)\u001b[0m\u001b[0;34m)\u001b[0m\u001b[0;34m:\u001b[0m\u001b[0;34m\u001b[0m\u001b[0;34m\u001b[0m\u001b[0m\n",
            "\u001b[0;31mNameError\u001b[0m: name 'nksip' is not defined"
          ]
        }
      ]
    }
  ]
}